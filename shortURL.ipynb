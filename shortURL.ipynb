{
 "cells": [
  {
   "cell_type": "code",
   "execution_count": 1,
   "id": "1fa79a5b",
   "metadata": {},
   "outputs": [
    {
     "name": "stdout",
     "output_type": "stream",
     "text": [
      "Randomly generated word length is: 8\n",
      "Randomly generated word : qouytpmd\n",
      "Dictionary is: {'qouytpmd': 'www.google.com'}\n",
      "https://www.shortURL.com/qouytpmd\n"
     ]
    }
   ],
   "source": [
    "import random\n",
    "import string\n",
    "d= {}\n",
    "def getshortURL(OriginalURL):\n",
    "    l= random.randint(5, 10)\n",
    "    print('Randomly generated word length is:', l)\n",
    "    chars= string.ascii_lowercase \n",
    "    shortURL= ''.join(random.choice(chars) for i in range(l))\n",
    "    print('Randomly generated word :', shortURL)\n",
    "    if shortURL in d:\n",
    "         return getshortURL(OriginalURL)\n",
    "    else:\n",
    "        d[shortURL]= OriginalURL\n",
    "        print('Dictionary is:', d)\n",
    "        r = 'https://www.shortURL.com/' + shortURL\n",
    "        return r\n",
    "\n",
    "def OriginalURL(shortURL):\n",
    "    k= shortURL[25:]\n",
    "    print(k)\n",
    "\n",
    "    if k in d:\n",
    "        return d[k]\n",
    "    else:\n",
    "        print('URL not found in the database')\n",
    "print(getshortURL('www.google.com'))"
   ]
  }
 ],
 "metadata": {
  "kernelspec": {
   "display_name": "Python 3",
   "language": "python",
   "name": "python3"
  },
  "language_info": {
   "codemirror_mode": {
    "name": "ipython",
    "version": 3
   },
   "file_extension": ".py",
   "mimetype": "text/x-python",
   "name": "python",
   "nbconvert_exporter": "python",
   "pygments_lexer": "ipython3",
   "version": "3.13.1"
  }
 },
 "nbformat": 4,
 "nbformat_minor": 5
}
